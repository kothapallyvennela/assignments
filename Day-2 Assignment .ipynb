{
 "cells": [
  {
   "cell_type": "code",
   "execution_count": 1,
   "id": "3fdde063-0cac-41de-9d30-8766b3391554",
   "metadata": {},
   "outputs": [
    {
     "name": "stdout",
     "output_type": "stream",
     "text": [
      "List: [10, 20, 30, 40, 50]\n",
      "First element of list: 10\n",
      "Last element of list: 50\n",
      "Sublist (2nd to 4th elements): [20, 30, 40]\n",
      "\n",
      "Tuple: ('apple', 'banana', 'cherry', 'date', 'elderberry')\n",
      "Second element of tuple: banana\n",
      "Last element of tuple: elderberry\n",
      "Subtuple (3rd to 5th elements): ('cherry', 'date', 'elderberry')\n",
      "\n",
      "Dictionary: {'name': 'Alice', 'age': 25, 'city': 'New York', 'country': 'USA', 'hobby': 'Reading'}\n",
      "Name: Alice\n",
      "City: New York\n",
      "Hobby: Reading\n"
     ]
    }
   ],
   "source": [
    "# Creating a List with 5 elements\n",
    "my_list = [10, 20, 30, 40, 50]\n",
    "print(\"List:\", my_list)\n",
    "\n",
    "# Accessing elements from the list using index\n",
    "print(\"First element of list:\", my_list[0])  # First element\n",
    "print(\"Last element of list:\", my_list[-1])  # Last element\n",
    "print(\"Sublist (2nd to 4th elements):\", my_list[1:4])  # Slicing\n",
    "\n",
    "\n",
    "# Creating a Tuple with 5 elements\n",
    "my_tuple = (\"apple\", \"banana\", \"cherry\", \"date\", \"elderberry\")\n",
    "print(\"\\nTuple:\", my_tuple)\n",
    "\n",
    "# Accessing elements from the tuple using index\n",
    "print(\"Second element of tuple:\", my_tuple[1])\n",
    "print(\"Last element of tuple:\", my_tuple[-1])\n",
    "print(\"Subtuple (3rd to 5th elements):\", my_tuple[2:5])\n",
    "\n",
    "\n",
    "# Creating a Dictionary with 5 key-value pairs\n",
    "my_dict = {\n",
    "    \"name\": \"Alice\",\n",
    "    \"age\": 25,\n",
    "    \"city\": \"New York\",\n",
    "    \"country\": \"USA\",\n",
    "    \"hobby\": \"Reading\"\n",
    "}\n",
    "print(\"\\nDictionary:\", my_dict)\n",
    "\n",
    "# Accessing values from the dictionary using keys\n",
    "print(\"Name:\", my_dict[\"name\"])\n",
    "print(\"City:\", my_dict[\"city\"])\n",
    "print(\"Hobby:\", my_dict.get(\"hobby\"))  # Using get() method\n"
   ]
  },
  {
   "cell_type": "code",
   "execution_count": null,
   "id": "a93333e8-f503-4a85-aa7b-da8a5f998f61",
   "metadata": {},
   "outputs": [],
   "source": []
  }
 ],
 "metadata": {
  "kernelspec": {
   "display_name": "Python [conda env:base] *",
   "language": "python",
   "name": "conda-base-py"
  },
  "language_info": {
   "codemirror_mode": {
    "name": "ipython",
    "version": 3
   },
   "file_extension": ".py",
   "mimetype": "text/x-python",
   "name": "python",
   "nbconvert_exporter": "python",
   "pygments_lexer": "ipython3",
   "version": "3.12.7"
  }
 },
 "nbformat": 4,
 "nbformat_minor": 5
}
