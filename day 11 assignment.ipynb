{
 "cells": [
  {
   "cell_type": "code",
   "execution_count": null,
   "id": "8d6cecd2-0e7f-4a97-9d99-28cbee014ed9",
   "metadata": {},
   "outputs": [],
   "source": []
  }
 ],
 "metadata": {
  "kernelspec": {
   "display_name": "",
   "name": ""
  },
  "language_info": {
   "name": ""
  }
 },
 "nbformat": 4,
 "nbformat_minor": 5
}
