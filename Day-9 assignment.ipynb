{
 "cells": [
  {
   "cell_type": "code",
   "execution_count": 3,
   "id": "81ac5ec3-c56d-4399-a8d3-7cabbd1ec887",
   "metadata": {},
   "outputs": [],
   "source": [
    "import pandas as pd\n",
    "\n",
    "# Load the dataset\n",
    "df = pd.read_csv(r\"C:\\Users\\K.vennela\\Downloads\\Day_9_banking_data.csv\")\n"
   ]
  },
  {
   "cell_type": "code",
   "execution_count": 5,
   "id": "e90ada8d-140a-4b5a-9061-6a644b2a39f4",
   "metadata": {},
   "outputs": [
    {
     "name": "stdout",
     "output_type": "stream",
     "text": [
      "         Date       Account_Type    Branch Transaction_Type  \\\n",
      "0  2023-01-19      Fixed Deposit   Central     Loan Payment   \n",
      "1  2023-01-16            Current    Uptown       Withdrawal   \n",
      "2  2023-01-10            Current    Uptown     Loan Payment   \n",
      "3  2023-01-18            Savings    Uptown     Loan Payment   \n",
      "4  2023-01-14  Recurring Deposit  Suburban     Loan Payment   \n",
      "\n",
      "   Transaction_Amount  Account_Balance  \n",
      "0              985.51          6839.59  \n",
      "1              641.43          8908.39  \n",
      "2             3363.85         12428.67  \n",
      "3             1914.60          5776.63  \n",
      "4             2788.57          4779.04  \n"
     ]
    }
   ],
   "source": [
    "print(df.head())"
   ]
  },
  {
   "cell_type": "code",
   "execution_count": 7,
   "id": "34611691-2fd2-4e9a-a01e-515435d62aac",
   "metadata": {},
   "outputs": [
    {
     "name": "stdout",
     "output_type": "stream",
     "text": [
      "       Transaction_Amount  Account_Balance\n",
      "count           20.000000        20.000000\n",
      "mean          2705.829500      7967.766500\n",
      "std           1429.829787      2770.248821\n",
      "min            641.430000      2592.160000\n",
      "25%           1482.085000      6460.127500\n",
      "50%           2567.645000      7905.275000\n",
      "75%           4121.525000      9127.702500\n",
      "max           4683.640000     12836.510000\n"
     ]
    }
   ],
   "source": [
    "print(df.describe())\n"
   ]
  },
  {
   "cell_type": "code",
   "execution_count": 9,
   "id": "6fe63cf2-ac66-4752-91eb-0d2331fd0463",
   "metadata": {},
   "outputs": [
    {
     "name": "stdout",
     "output_type": "stream",
     "text": [
      "Date                  0\n",
      "Account_Type          0\n",
      "Branch                0\n",
      "Transaction_Type      0\n",
      "Transaction_Amount    0\n",
      "Account_Balance       0\n",
      "dtype: int64\n"
     ]
    }
   ],
   "source": [
    "print(df.isnull().sum())\n"
   ]
  },
  {
   "cell_type": "code",
   "execution_count": 11,
   "id": "9a466624-5407-4705-a0da-502594ccc3c7",
   "metadata": {},
   "outputs": [
    {
     "name": "stdout",
     "output_type": "stream",
     "text": [
      "                   Transaction_Amount  Account_Balance\n",
      "Account_Type                                          \n",
      "Current                      15052.57      9893.404000\n",
      "Fixed Deposit                14102.59      6120.380000\n",
      "Recurring Deposit            15179.99      7627.283333\n",
      "Savings                       9781.44      9134.110000\n"
     ]
    }
   ],
   "source": [
    "account_group = df.groupby(\"Account_Type\").agg({\n",
    "    \"Transaction_Amount\": \"sum\",\n",
    "    \"Account_Balance\": \"mean\"\n",
    "})\n",
    "print(account_group)\n"
   ]
  },
  {
   "cell_type": "code",
   "execution_count": 13,
   "id": "cedca1d7-e1c7-4d39-ba4b-d0d7487662ce",
   "metadata": {},
   "outputs": [
    {
     "name": "stdout",
     "output_type": "stream",
     "text": [
      "         Transaction_Amount             \n",
      "                      count         mean\n",
      "Branch                                  \n",
      "Central                   8  2942.338750\n",
      "Downtown                  3  3188.703333\n",
      "Suburban                  5  2773.278000\n",
      "Uptown                    4  1786.345000\n"
     ]
    }
   ],
   "source": [
    "branch_group = df.groupby(\"Branch\").agg({\n",
    "    \"Transaction_Amount\": [\"count\", \"mean\"]\n",
    "})\n",
    "print(branch_group)\n"
   ]
  },
  {
   "cell_type": "code",
   "execution_count": null,
   "id": "bd400316-2715-47fd-ba19-e15b562de100",
   "metadata": {},
   "outputs": [],
   "source": []
  }
 ],
 "metadata": {
  "kernelspec": {
   "display_name": "Python [conda env:base] *",
   "language": "python",
   "name": "conda-base-py"
  },
  "language_info": {
   "codemirror_mode": {
    "name": "ipython",
    "version": 3
   },
   "file_extension": ".py",
   "mimetype": "text/x-python",
   "name": "python",
   "nbconvert_exporter": "python",
   "pygments_lexer": "ipython3",
   "version": "3.12.7"
  }
 },
 "nbformat": 4,
 "nbformat_minor": 5
}
