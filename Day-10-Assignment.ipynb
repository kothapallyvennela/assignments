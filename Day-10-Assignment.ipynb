{
 "cells": [
  {
   "cell_type": "code",
   "execution_count": 1,
   "id": "623ad796-e193-4e6e-b276-dcf60f69fa30",
   "metadata": {},
   "outputs": [
    {
     "name": "stdout",
     "output_type": "stream",
     "text": [
      "Rows where Transaction_Amount <= 2000:\n",
      "   Account_ID  Account_Balance  Transaction_Amount Transaction_Type    Branch\n",
      "1           2            15000                1500     Loan Payment  Downtown\n",
      "3           4            20000                 200          Deposit    Uptown\n",
      "4           5            12000                1000     Loan Payment  Downtown\n",
      "\n",
      "Rows where Transaction_Type is 'Loan Payment' and Account_Balance > 5000:\n",
      "   Account_ID  Account_Balance  Transaction_Amount Transaction_Type    Branch\n",
      "1           2            15000                1500     Loan Payment  Downtown\n",
      "2           3             7000                3500     Loan Payment    Uptown\n",
      "4           5            12000                1000     Loan Payment  Downtown\n",
      "\n",
      "Transactions made in the 'Uptown' branch:\n",
      "   Account_ID  Account_Balance  Transaction_Amount Transaction_Type  Branch\n",
      "0           1             3000                2500          Deposit  Uptown\n",
      "2           3             7000                3500     Loan Payment  Uptown\n",
      "3           4            20000                 200          Deposit  Uptown\n"
     ]
    }
   ],
   "source": [
    "import pandas as pd\n",
    "\n",
    "# Sample DataFrame (replace this with your actual dataset)\n",
    "data = {\n",
    "    'Account_ID': [1, 2, 3, 4, 5],\n",
    "    'Account_Balance': [3000, 15000, 7000, 20000, 12000],\n",
    "    'Transaction_Amount': [2500, 1500, 3500, 200, 1000],\n",
    "    'Transaction_Type': ['Deposit', 'Loan Payment', 'Loan Payment', 'Deposit', 'Loan Payment'],\n",
    "    'Branch': ['Uptown', 'Downtown', 'Uptown', 'Uptown', 'Downtown']\n",
    "}\n",
    "\n",
    "df = pd.DataFrame(data)\n",
    "\n",
    "# Task 1: Filter out all rows where the Transaction_Amount is greater than 2000\n",
    "filtered_transaction_amount = df[df['Transaction_Amount'] <= 2000]\n",
    "\n",
    "print(\"Rows where Transaction_Amount <= 2000:\")\n",
    "print(filtered_transaction_amount)\n",
    "\n",
    "# Task 2: Find all rows where the Transaction_Type is \"Loan Payment\" and Account_Balance is greater than 5000\n",
    "filtered_loan_payment = df[(df['Transaction_Type'] == 'Loan Payment') & (df['Account_Balance'] > 5000)]\n",
    "\n",
    "print(\"\\nRows where Transaction_Type is 'Loan Payment' and Account_Balance > 5000:\")\n",
    "print(filtered_loan_payment)\n",
    "\n",
    "# Task 3: Extract transactions made in the \"Uptown\" branch\n",
    "uptown_transactions = df[df['Branch'] == 'Uptown']\n",
    "\n",
    "print(\"\\nTransactions made in the 'Uptown' branch:\")\n",
    "print(uptown_transactions)\n"
   ]
  },
  {
   "cell_type": "code",
   "execution_count": 3,
   "id": "fc571d0c-ac14-4676-8526-8d9c460e36b2",
   "metadata": {},
   "outputs": [
    {
     "name": "stdout",
     "output_type": "stream",
     "text": [
      "Updated DataFrame with new columns:\n",
      "   Account_ID  Account_Balance  Transaction_Amount Transaction_Type    Branch  \\\n",
      "0           1             3000                2500          Deposit    Uptown   \n",
      "1           2            15000                1500     Loan Payment  Downtown   \n",
      "2           3             7000                3500     Loan Payment    Uptown   \n",
      "3           4            20000                 200          Deposit    Uptown   \n",
      "4           5            12000                1000     Loan Payment  Downtown   \n",
      "\n",
      "   Transaction_Fee Balance_Status  \n",
      "0             50.0    Low Balance  \n",
      "1             30.0   High Balance  \n",
      "2             70.0   High Balance  \n",
      "3              4.0   High Balance  \n",
      "4             20.0   High Balance  \n"
     ]
    }
   ],
   "source": [
    "import pandas as pd\n",
    "\n",
    "# Sample DataFrame (replace this with your actual dataset)\n",
    "data = {\n",
    "    'Account_ID': [1, 2, 3, 4, 5],\n",
    "    'Account_Balance': [3000, 15000, 7000, 20000, 12000],\n",
    "    'Transaction_Amount': [2500, 1500, 3500, 200, 1000],\n",
    "    'Transaction_Type': ['Deposit', 'Loan Payment', 'Loan Payment', 'Deposit', 'Loan Payment'],\n",
    "    'Branch': ['Uptown', 'Downtown', 'Uptown', 'Uptown', 'Downtown']\n",
    "}\n",
    "\n",
    "df = pd.DataFrame(data)\n",
    "\n",
    "# Task 1: Add a new column called Transaction_Fee (2% of Transaction_Amount)\n",
    "df['Transaction_Fee'] = df['Transaction_Amount'] * 0.02\n",
    "\n",
    "# Task 2: Create a new column Balance_Status based on Account_Balance\n",
    "df['Balance_Status'] = df['Account_Balance'].apply(lambda x: 'High Balance' if x > 5000 else 'Low Balance')\n",
    "\n",
    "# Display the updated DataFrame\n",
    "print(\"Updated DataFrame with new columns:\")\n",
    "print(df)\n"
   ]
  },
  {
   "cell_type": "code",
   "execution_count": null,
   "id": "8912a264-5390-4149-9836-7874ed9e132e",
   "metadata": {},
   "outputs": [],
   "source": []
  }
 ],
 "metadata": {
  "kernelspec": {
   "display_name": "Python [conda env:base] *",
   "language": "python",
   "name": "conda-base-py"
  },
  "language_info": {
   "codemirror_mode": {
    "name": "ipython",
    "version": 3
   },
   "file_extension": ".py",
   "mimetype": "text/x-python",
   "name": "python",
   "nbconvert_exporter": "python",
   "pygments_lexer": "ipython3",
   "version": "3.12.7"
  }
 },
 "nbformat": 4,
 "nbformat_minor": 5
}
