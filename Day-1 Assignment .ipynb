{
 "cells": [
  {
   "cell_type": "code",
   "execution_count": 1,
   "id": "832e1076-7958-49fb-8549-bc97ade8a016",
   "metadata": {},
   "outputs": [
    {
     "name": "stdout",
     "output_type": "stream",
     "text": [
      "Integer: 10 | Type: <class 'int'>\n",
      "Float: 10.5 | Type: <class 'float'>\n",
      "String: Hello | Type: <class 'str'>\n",
      "Boolean: True | Type: <class 'bool'>\n"
     ]
    }
   ],
   "source": [
    "# Declaring variables of different data types\n",
    "integer_var = 10          # Integer\n",
    "float_var = 10.5          # Float\n",
    "string_var = \"Hello\"      # String\n",
    "boolean_var = True        # Boolean\n",
    "\n",
    "# Printing values and their types\n",
    "print(\"Integer:\", integer_var, \"| Type:\", type(integer_var))\n",
    "print(\"Float:\", float_var, \"| Type:\", type(float_var))\n",
    "print(\"String:\", string_var, \"| Type:\", type(string_var))\n",
    "print(\"Boolean:\", boolean_var, \"| Type:\", type(boolean_var))\n"
   ]
  },
  {
   "cell_type": "code",
   "execution_count": null,
   "id": "b1063b63-dec0-4ac3-ac2f-c428780e41fe",
   "metadata": {},
   "outputs": [],
   "source": []
  }
 ],
 "metadata": {
  "kernelspec": {
   "display_name": "Python [conda env:base] *",
   "language": "python",
   "name": "conda-base-py"
  },
  "language_info": {
   "codemirror_mode": {
    "name": "ipython",
    "version": 3
   },
   "file_extension": ".py",
   "mimetype": "text/x-python",
   "name": "python",
   "nbconvert_exporter": "python",
   "pygments_lexer": "ipython3",
   "version": "3.12.7"
  }
 },
 "nbformat": 4,
 "nbformat_minor": 5
}
