{
 "cells": [
  {
   "cell_type": "code",
   "execution_count": 1,
   "id": "a91d9599-5747-4f9b-9f49-c83298370f43",
   "metadata": {},
   "outputs": [
    {
     "name": "stdin",
     "output_type": "stream",
     "text": [
      "Enter a positive integer:  9\n"
     ]
    },
    {
     "name": "stdout",
     "output_type": "stream",
     "text": [
      "Numbers from 1 to 9 :\n",
      "1\n",
      "2\n",
      "3\n",
      "4\n",
      "5\n",
      "6\n",
      "7\n",
      "8\n",
      "9\n",
      "Sum of numbers from 1 to 9 is: 45\n"
     ]
    }
   ],
   "source": [
    "# Ask the user to enter a positive integer\n",
    "n = int(input(\"Enter a positive integer: \"))\n",
    "\n",
    "# Using a for loop to print numbers from 1 to n\n",
    "print(\"Numbers from 1 to\", n, \":\")\n",
    "for i in range(1, n + 1):\n",
    "    print(i)\n",
    "\n",
    "# Using a while loop to calculate the sum of numbers from 1 to n\n",
    "sum_numbers = 0\n",
    "counter = 1\n",
    "\n",
    "while counter <= n:\n",
    "    sum_numbers += counter\n",
    "    counter += 1\n",
    "\n",
    "print(\"Sum of numbers from 1 to\", n, \"is:\", sum_numbers)\n"
   ]
  },
  {
   "cell_type": "code",
   "execution_count": 7,
   "id": "1fda0649-a688-4d08-a8fc-003300fd9ef1",
   "metadata": {},
   "outputs": [],
   "source": [
    "def calculate_square(n):\n",
    "    return n * n\n",
    "    num = int(input(\"Enter a positive integer: \"))\n",
    "    result = calculate_square(num)\n",
    "    print(\"The square of\", num, \"is:\", result)\n"
   ]
  },
  {
   "cell_type": "code",
   "execution_count": null,
   "id": "74d64b46-e165-4015-bb20-8a9e03fbcc52",
   "metadata": {},
   "outputs": [],
   "source": []
  }
 ],
 "metadata": {
  "kernelspec": {
   "display_name": "Python [conda env:base] *",
   "language": "python",
   "name": "conda-base-py"
  },
  "language_info": {
   "codemirror_mode": {
    "name": "ipython",
    "version": 3
   },
   "file_extension": ".py",
   "mimetype": "text/x-python",
   "name": "python",
   "nbconvert_exporter": "python",
   "pygments_lexer": "ipython3",
   "version": "3.12.7"
  }
 },
 "nbformat": 4,
 "nbformat_minor": 5
}
