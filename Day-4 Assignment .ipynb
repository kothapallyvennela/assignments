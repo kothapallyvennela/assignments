{
 "cells": [
  {
   "cell_type": "code",
   "execution_count": null,
   "id": "b9ebd9d5-06df-4af4-b7fa-a4e8fb64bf1c",
   "metadata": {},
   "outputs": [],
   "source": [
    "# Taking user input for the upper limit\n",
    "n = int(input(\"Enter a positive integer: \"))\n",
    "\n",
    "# Initializing sum variable\n",
    "sum_even = 0\n",
    "\n",
    "# Loop to calculate the sum of even numbers\n",
    "for num in range(2, n + 1, 2):  # Start from 2, go up to n, step by 2\n",
    "    sum_even += num\n",
    "\n",
    "# Printing the result\n",
    "print(f\"Sum of all even numbers from 1 to {n} is: {sum_even}\")\n"
   ]
  }
 ],
 "metadata": {
  "kernelspec": {
   "display_name": "Python [conda env:base] *",
   "language": "python",
   "name": "conda-base-py"
  },
  "language_info": {
   "codemirror_mode": {
    "name": "ipython",
    "version": 3
   },
   "file_extension": ".py",
   "mimetype": "text/x-python",
   "name": "python",
   "nbconvert_exporter": "python",
   "pygments_lexer": "ipython3",
   "version": "3.12.7"
  }
 },
 "nbformat": 4,
 "nbformat_minor": 5
}
